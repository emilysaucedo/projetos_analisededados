{
 "cells": [
  {
   "cell_type": "code",
   "execution_count": null,
   "metadata": {},
   "outputs": [],
   "source": [
    "import pandas as pd\n",
    "import os\n",
    "import numpy as np"
   ]
  },
  {
   "cell_type": "code",
   "execution_count": null,
   "metadata": {},
   "outputs": [],
   "source": [
    "# Ler todos arquivos\n",
    "# Tabela Única\n",
    "# Análise preliminar \n",
    "# Achar valor mínimo e valor ótimo"
   ]
  },
  {
   "cell_type": "code",
   "execution_count": null,
   "metadata": {},
   "outputs": [],
   "source": [
    "arquivos = os.listdir() #lista de arquivos que tem na pasta\n",
    "print(arquivos)\n",
    "# mto manual, como automatizar?\n",
    "empresas = arquivos[0:8]\n",
    "print(empresas)\n",
    "\n",
    "licitacao = pd.read_excel(empresas[0])\n",
    "\n",
    "#licitacao = licitacao.rename(columns={'Total' : 'Empresa A'})\n",
    "licitacao = licitacao.drop('Valor Unitário', axis=1)\n",
    "licitacao = licitacao.drop('Total', axis=1)\n",
    "\n",
    "for empresa in empresas:\n",
    "    proposta = pd.read_excel(empresa)\n",
    "    licitacao[empresa[:-5]] = proposta['Total'].copy()\n",
    "display(licitacao)\n",
    "display(licitacao.info())\n"
   ]
  },
  {
   "cell_type": "code",
   "execution_count": null,
   "metadata": {},
   "outputs": [],
   "source": [
    "for coluna in licitacao.columns[3:]:\n",
    "    total = licitacao[coluna].sum()\n",
    "    print('{} : R$ {:,.2f}'.format(coluna, total))\n"
   ]
  },
  {
   "cell_type": "code",
   "execution_count": null,
   "metadata": {},
   "outputs": [],
   "source": [
    "# Resultado ótimo: achar o menor preço de cada item\n",
    "# Ex: percorrer a linha do item e achar o menor valor\n",
    "\n",
    "licitacao['Mínimo'] = licitacao.drop(['Item', 'Descrição do Item', 'Quantidade'], axis=1).min(axis=1)\n",
    "#função min() acha o mínimo comparando as colunas axis=1\n",
    "display(licitacao)\n",
    "\n",
    "minimo = licitacao['Mínimo'].sum()\n",
    "print('A soma do valor mínimo dos item é : R$ {:,.2f}'.format(minimo))\n"
   ]
  },
  {
   "cell_type": "code",
   "execution_count": null,
   "metadata": {},
   "outputs": [],
   "source": [
    "# Comparar o valor da empresa com o valor mínimo da coluna\n",
    "# Planilha de desvios\n",
    "\n",
    "for empresa in licitacao.columns[3:-1]:\n",
    "    desvio = licitacao[['Item', 'Descrição do Item', 'Quantidade', empresa, 'Mínimo']]\n",
    "    desvio['Delta'] = desvio[empresa] - desvio['Mínimo']\n",
    "    desvio.to_excel('Desvio - ' + empresa + '.xlsx', index=False)"
   ]
  }
 ],
 "metadata": {
  "kernelspec": {
   "display_name": "base",
   "language": "python",
   "name": "python3"
  },
  "language_info": {
   "codemirror_mode": {
    "name": "ipython",
    "version": 3
   },
   "file_extension": ".py",
   "mimetype": "text/x-python",
   "name": "python",
   "nbconvert_exporter": "python",
   "pygments_lexer": "ipython3",
   "version": "3.9.13"
  },
  "orig_nbformat": 4
 },
 "nbformat": 4,
 "nbformat_minor": 2
}
